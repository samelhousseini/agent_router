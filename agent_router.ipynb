{
 "cells": [
  {
   "cell_type": "code",
   "execution_count": 2,
   "id": "af5615b4",
   "metadata": {},
   "outputs": [
    {
     "name": "stdout",
     "output_type": "stream",
     "text": [
      "The autoreload extension is already loaded. To reload it, use:\n",
      "  %reload_ext autoreload\n",
      "✅ All utility plugins defined!\n",
      "🔧 Available plugins: Weather, Random, DateTime, TextAnalysis, RAG, NL2SQL, Cosmos\n"
     ]
    }
   ],
   "source": [
    "# Automatically reload modules when they change\n",
    "%load_ext autoreload\n",
    "%autoreload 2  \n",
    "\n",
    "# Import necessary libraries and load environment variables\n",
    "import os\n",
    "from dotenv import load_dotenv\n",
    "load_dotenv(override=True)  # Load environment variables from .env file (contains API keys for OpenAI/Azure OpenAI)\n",
    "\n",
    "# Import data modeling and typing libraries\n",
    "from pydantic import BaseModel\n",
    "from typing import List, Dict, Union\n",
    "from typing import Any\n",
    "from pathlib import Path\n",
    "import re\n",
    "import json\n",
    "from typing_extensions import Literal\n",
    "\n",
    "from semantic_kernel import Kernel\n",
    "from semantic_kernel.connectors.ai import FunctionChoiceBehavior\n",
    "from semantic_kernel.contents import ChatHistory, StreamingChatMessageContent\n",
    "from semantic_kernel.connectors.ai.chat_completion_client_base import ChatCompletionClientBase\n",
    "from semantic_kernel.connectors.ai.prompt_execution_settings import PromptExecutionSettings\n",
    "from semantic_kernel.connectors.ai.open_ai import AzureChatCompletion, AzureChatPromptExecutionSettings\n",
    "from semantic_kernel.agents import Agent, ChatCompletionAgent\n",
    "from semantic_kernel.agents import ChatHistoryAgentThread\n",
    "from semantic_kernel.functions.kernel_arguments import KernelArguments\n",
    "\n",
    "from plugins import *\n",
    "\n",
    "from rich.console import Console\n",
    "console = Console()"
   ]
  },
  {
   "cell_type": "markdown",
   "id": "8c429088",
   "metadata": {},
   "source": [
    "## Defining Agent Hierarchy"
   ]
  },
  {
   "cell_type": "markdown",
   "id": "d387207e",
   "metadata": {},
   "source": [
    "### Agent Hierarchy Visualization\n",
    "\n",
    "\n",
    "```\n",
    "┌────────────────────────────┐\n",
    "│     Main Orchestration     │\n",
    "│     (SelectorAgent)        │\n",
    "└───────────┬────────────────┘\n",
    "            │\n",
    "    ┌─────────────────┼\n",
    "    │                 │ \n",
    "┌───▼────┐    ┌──────▼──────────────────┐\n",
    "│  RAG   │    │  CombinedDatabaseAgent  │\n",
    "│ Agent  │    │        (Local)          │\n",
    "│(Local) │    └───────────┬─────────────┘\n",
    "└───┬────┘                │\n",
    "    │           ┌─────────┼─────────┐\n",
    "┌───▼────┐      │                   │\n",
    "│  RAG   │  ┌───▼────┐          ┌─▼─────┐\n",
    "│Plugin  │  │Cosmos  │          │SQL    │\n",
    "│(Local) │  │Agent   │          │Agent  │\n",
    "└────────┘  │(Local) │          │(Local)│\n",
    "            └───┬────┘          └───┬───┘\n",
    "                │                   │\n",
    "            ┌───▼────┐          ┌───▼────┐\n",
    "            │Cosmos  │          │NL2SQL  │\n",
    "            │Plugin  │          │Plugin  │\n",
    "            │(Local) │          │(Local) │\n",
    "            └────────┘          └────────┘\n",
    "```\n",
    "\n"
   ]
  },
  {
   "cell_type": "code",
   "execution_count": 18,
   "id": "8dff0298",
   "metadata": {},
   "outputs": [],
   "source": [
    "cosmos_system_message = \"\"\"\n",
    "You are a Cosmos plugin that simulates retrieving multimodal documents in JSON format about last year's sales analysis of a company that sells smart city IoT solutions.\n",
    "You will return a context that contains the relevant information from the multimodal documents based on the user's query.\n",
    "\"\"\"\n",
    "\n",
    "cosmos_agent = ChatCompletionAgent(\n",
    "    id=\"CosmosIoTSalesAgent\",\n",
    "    name=\"CosmosIoTSalesAgent\",\n",
    "    instructions=cosmos_system_message,\n",
    "    description=\"Router Agent for Cosmos Plugin. This agent simulates retrieving multimodal documents in JSON format about last year's sales analysis of a company that sells smart city IoT solutions.\",\n",
    "    plugins=[cosmos_plugin],\n",
    "    service=AzureChatCompletion()\n",
    ")\n",
    "\n",
    "\n",
    "nl2sql_system_message = \"\"\"You are an NL2SQL plugin that simulates retrieving search results from a SQL server related to personal banking transactions.\n",
    "You will return a context that contains the relevant information from the SQL server based on the user's query.\n",
    "\"\"\"\n",
    "\n",
    "sql_agent = ChatCompletionAgent(\n",
    "    id=\"NL2SQLAgent\",\n",
    "    name=\"NL2SQLAgent\",\n",
    "    instructions=nl2sql_system_message,\n",
    "    description=\"Router Agent for NL2SQL Plugin. This agent retrieves search results from a SQL server related to personal banking transactions and returns it as context.\",\n",
    "    plugins=[nl2sql_plugin],\n",
    "    service=AzureChatCompletion()\n",
    ")\n",
    "\n",
    "\n",
    "rag_system_message = \"\"\"You are a RAG plugin that simulates retrieving search results from a data source related to a Car Insurance Policy of a BMW 320i.\n",
    "You will return a context that contains the relevant information from the data source based on the user's query.\n",
    "\"\"\"\n",
    "\n",
    "rag_agent = ChatCompletionAgent(\n",
    "    id=\"RAGAgent\",\n",
    "    name=\"RAGAgent\",\n",
    "    instructions=rag_system_message,\n",
    "    description=\"Router Agent for RAG Plugin. This agent retrieves search results from a data source related to a Car Insurance Policy of a BMW 320i and returns it as context.\",\n",
    "    plugins=[rag_plugin],\n",
    "    service=AzureChatCompletion()\n",
    ")\n",
    "\n",
    "\n",
    "# Combined Database Agent\n",
    "combined_database_system_message = \"\"\"You are a Combined Database Agent that simulates retrieving search results from multiple data sources.\n",
    "You will return a context that contains the relevant information from the data sources based on the user's query.\n",
    "You will use the NL2SQL plugin for personal banking transactions, and the Cosmos plugin for multimodal documents related to sales analysis of smart city IoT solutions.\n",
    "\"\"\"\n",
    "\n",
    "combined_database_agent = ChatCompletionAgent(\n",
    "    id=\"CombinedDatabaseAgent\",\n",
    "    name=\"CombinedDatabaseAgent\",\n",
    "    instructions=combined_database_system_message,\n",
    "    description=\"Router Agent for Combined Database. This agent retrieves search results from multiple data sources including NL2SQL and Cosmos agents.\",\n",
    "    plugins=[cosmos_agent, sql_agent],\n",
    "    service=AzureChatCompletion()\n",
    ")\n",
    "\n",
    "\n",
    "# Combined Data Sources Agent\n",
    "combined_data_sources_system_message = \"\"\"You are a Combined Data Sources Agent that simulates retrieving search results from multiple data sources.\n",
    "You will return a context that contains the relevant information frm the data sources based on the user's query.\n",
    "You will use the RAG plugin for Car Insurance Policy of a BMW 320i, the NL2SQL plugin for personal banking transactions, and the Cosmos plugin for multimodal documents related to sales analysis of smart city IoT solutions.\n",
    "\"\"\"\n",
    "\n",
    "combined_data_sources_agent = ChatCompletionAgent(\n",
    "    id=\"CombinedDataSourcesAgent\",\n",
    "    name=\"CombinedDataSourcesAgent\",\n",
    "    instructions=combined_data_sources_system_message,\n",
    "    description=\"Router Agent for Combined Data Sources. This agent retrieves search results from multiple data sources including RAG, NL2SQL, and Cosmos agents.\",\n",
    "    plugins=[rag_agent, combined_database_agent],\n",
    "    service=AzureChatCompletion()\n",
    ")\n"
   ]
  },
  {
   "cell_type": "markdown",
   "id": "25c73ee4",
   "metadata": {},
   "source": [
    "## Method 1: Agent Routing with Structured Outputs"
   ]
  },
  {
   "cell_type": "code",
   "execution_count": 23,
   "id": "be9d6699",
   "metadata": {},
   "outputs": [
    {
     "data": {
      "text/html": [
       "<pre style=\"white-space:pre;overflow-x:auto;line-height:normal;font-family:Menlo,'DejaVu Sans Mono',consolas,'Courier New',monospace\">Router Agent selected: CosmosAgent\n",
       "</pre>\n"
      ],
      "text/plain": [
       "Router Agent selected: CosmosAgent\n"
      ]
     },
     "metadata": {},
     "output_type": "display_data"
    }
   ],
   "source": [
    "kernel = Kernel()\n",
    "\n",
    "class AgentSelection(BaseModel):\n",
    "    selected_agent: str\n",
    "\n",
    "system_message = \"\"\"\n",
    "You are a helpful agent router. Please select the most appropriate agent to do the task.\n",
    "Available agents are:\n",
    "- RAGAgent: For retrieving context from a data source about a Car Insurance Policy of a BMW 320i.\n",
    "- CosmosAgent: For retrieving multimodal documents about last year's sales analysis of a company that sells smart city IoT solutions.\n",
    "- SQLAgent: For retrieving search results from a SQL server related to personal banking transactions.\n",
    "You will receive a task description, and you should return the name of the agent that is best suited to handle the task.\n",
    "The output should be a JSON object with a single key \"selected_agent\" and the value being the name of the selected agent.\n",
    "\"\"\"\n",
    "\n",
    "settings = AzureChatPromptExecutionSettings()\n",
    "settings.response_format = AgentSelection\n",
    "\n",
    "router_agent = ChatCompletionAgent(\n",
    "    id=\"RouterAgent\",\n",
    "    name=\"RouterAgent\",\n",
    "    instructions=system_message,\n",
    "    description=\"This agent routes tasks to the appropriate data source agent.\",\n",
    "    service=AzureChatCompletion(),\n",
    "    arguments=KernelArguments(settings=settings),\n",
    ")\n",
    "\n",
    "# Example queries to test routing\n",
    "# query = \"What are my last 3 transactions?\"\n",
    "# query = \"Are my tyres insured?\"\n",
    "query = \"What was the total sales in USD of the Q4 in the last year?\"\n",
    "\n",
    "async for response in router_agent.invoke(messages=query):                \n",
    "    content = response.content\n",
    "    answer = AgentSelection.model_validate(json.loads(str(response.content)))\n",
    "\n",
    "console.print(f\"Router Agent selected: {answer.selected_agent}\")\n",
    "\n",
    "if answer.selected_agent == \"RAGAgent\":\n",
    "    # Call RAGAgent\n",
    "    pass \n",
    "elif answer.selected_agent == \"CosmosAgent\":\n",
    "    # Call CosmosAgent\n",
    "    pass\n",
    "elif answer.selected_agent == \"SQLAgent\":\n",
    "    # Call SQLAgent\n",
    "    pass\n",
    "else:\n",
    "    console.print(f\"Unknown agent selected: {answer.selected_agent}\")\n",
    "    raise ValueError(f\"Unknown agent selected: {answer.selected_agent}\")\n",
    "\n",
    "\n"
   ]
  },
  {
   "cell_type": "markdown",
   "id": "bd180e18",
   "metadata": {},
   "source": [
    "## Method 2: Agent Routing with Plugins\n",
    "\n"
   ]
  },
  {
   "cell_type": "code",
   "execution_count": null,
   "id": "191ed077",
   "metadata": {},
   "outputs": [
    {
     "name": "stdout",
     "output_type": "stream",
     "text": [
      "🎲 Generated random number: 109 (between 88 and 120)\n"
     ]
    },
    {
     "data": {
      "text/html": [
       "<pre style=\"white-space:pre;overflow-x:auto;line-height:normal;font-family:Menlo,'DejaVu Sans Mono',consolas,'Courier New',monospace\">Agent Response:\n",
       "The random number between <span style=\"color: #008080; text-decoration-color: #008080; font-weight: bold\">88</span> and <span style=\"color: #008080; text-decoration-color: #008080; font-weight: bold\">120</span> is: <span style=\"color: #008080; text-decoration-color: #008080; font-weight: bold\">109</span>. <span style=\"font-weight: bold\">(</span>Generated by the RandomPlugin agent.<span style=\"font-weight: bold\">)</span>\n",
       "</pre>\n"
      ],
      "text/plain": [
       "Agent Response:\n",
       "The random number between \u001b[1;36m88\u001b[0m and \u001b[1;36m120\u001b[0m is: \u001b[1;36m109\u001b[0m. \u001b[1m(\u001b[0mGenerated by the RandomPlugin agent.\u001b[1m)\u001b[0m\n"
      ]
     },
     "metadata": {},
     "output_type": "display_data"
    }
   ],
   "source": [
    "selector_agent_system_message = f\"\"\"You are a helpful agent selector. Please select the most appropriate agent to do the task.\n",
    "The selected agent should be one of the following:\n",
    "- RAGAgent: For retrieving context from a data source about a Car Insurance Policy of a BMW 320i.\n",
    "- CombinedDatabaseAgent: For retrieving context from multiple database sources including SQL server for personal banking transactions and Cosmos server for multimodal documents about last year's sales analysis of a company that sells smart city IoT solutions.\n",
    "You will receive a task description, and you should call the proper agent to get the final answer. Please mention in your final answer the name of the agent you called.\n",
    "- RandomPlugin: For generating a random number between min and max values.\n",
    "\"\"\"\n",
    "\n",
    "\n",
    "selector_agent = ChatCompletionAgent(\n",
    "    id=\"SelectorAgent\",\n",
    "    name=\"SelectorAgent\",\n",
    "    instructions=selector_agent_system_message,\n",
    "    description=\"This agent generates images based on the user's request.\",\n",
    "    plugins=[combined_database_agent, rag_agent, RandomPlugin()],\n",
    "    service=AzureChatCompletion(),\n",
    ")\n",
    "\n",
    "query = \"What are my last 3 transactions?\"\n",
    "query = \"are my tyres insured?\"\n",
    "query = \"What was the total sales in USD of the Q4 in the last year?\"\n",
    "query = \"Give me a random nnumber between 88 and 120\"\n",
    "\n",
    "async for response in selector_agent.invoke(messages=query):                \n",
    "    # thread = response.thread                    \n",
    "    content = response.content\n",
    "\n",
    "\n",
    "console.print(f\"Agent Response:\\n{content}\")"
   ]
  },
  {
   "cell_type": "code",
   "execution_count": null,
   "id": "a9ac2c06",
   "metadata": {},
   "outputs": [],
   "source": []
  }
 ],
 "metadata": {
  "kernelspec": {
   "display_name": ".venv",
   "language": "python",
   "name": "python3"
  },
  "language_info": {
   "codemirror_mode": {
    "name": "ipython",
    "version": 3
   },
   "file_extension": ".py",
   "mimetype": "text/x-python",
   "name": "python",
   "nbconvert_exporter": "python",
   "pygments_lexer": "ipython3",
   "version": "3.13.5"
  }
 },
 "nbformat": 4,
 "nbformat_minor": 5
}
